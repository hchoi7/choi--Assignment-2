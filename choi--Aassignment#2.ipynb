{
 "cells": [
  {
   "cell_type": "markdown",
   "metadata": {},
   "source": [
    "# ME 7038 Introduction to Computational Fluid Dynamics\n",
    "###### Summer III, 2020\n",
    "## Homework Assignment 2 -- Name\n",
    "Due 22 June 2020 @ 1800\n",
    "101 pts\n",
    "### Reading:\n",
    "#### Textbook\n",
    "Chap 5, Sections 5.1 -- 5.4\n",
    "\n",
    "\n",
    "#### Jupyter Notebooks\n",
    "Prof. Barba: 12 steps to Navier-Stokes, notebooks 0 -- 4\n",
    "(00_Quick_Python_Intro.ipynb -- 04_Step_3.ipynb)\n",
    "\n",
    "\n",
    "#### Videos\n",
    "Watch https://www.youtube.com/watch?v=HW29067qVWk (you can probably skip ahead to about 4:00 to avoid the installation and “Yay – Jupyter!” It’s about 30 minutes total. There are shorter videos, but I like this channel (which has over 100 other Python videos, including some on NumPy and MatplotLib)\n",
    "\n"
   ]
  },
  {
   "cell_type": "markdown",
   "metadata": {},
   "source": [
    "### Problems"
   ]
  },
  {
   "cell_type": "markdown",
   "metadata": {},
   "source": [
    "#### 1) From Chapter 5: Review questions 5.1, 5.2, 5.3, 5.4, 5.6, 5.7 -- choose 3 to answer. (6 pts each)"
   ]
  },
  {
   "cell_type": "markdown",
   "metadata": {},
   "source": [
    "Q#: "
   ]
  },
  {
   "cell_type": "markdown",
   "metadata": {},
   "source": [
    "Q#: "
   ]
  },
  {
   "cell_type": "markdown",
   "metadata": {},
   "source": [
    "Q#: "
   ]
  },
  {
   "cell_type": "markdown",
   "metadata": {},
   "source": [
    "The remaining questions will involve Python coding.  It is recommended to develop the code in Spyder, then paste the final code here as appropriate.\n",
    "\n",
    "#### 2) In this section, you'll study the behavior of the linear convection equation\n",
    "Using the posted code for the linear convection equation as a base/template, complete the following exercises:"
   ]
  },
  {
   "cell_type": "markdown",
   "metadata": {},
   "source": [
    "a) Per the lecture, use the cell below to import any required Python modules (3 pts)"
   ]
  },
  {
   "cell_type": "code",
   "execution_count": null,
   "metadata": {},
   "outputs": [],
   "source": []
  },
  {
   "cell_type": "raw",
   "metadata": {},
   "source": [
    "b) In the original code, the initial conditions are hardcoded into the script.  Use the cell below to write a function that replicates the piecewise hat function used in the initial condition.  The function prototype and docstring are provided. (5 pts)"
   ]
  },
  {
   "cell_type": "code",
   "execution_count": 1,
   "metadata": {},
   "outputs": [],
   "source": [
    "###\n",
    "###     Initial Conditions Hat Function\n",
    "###\n",
    "\n",
    "def icFn(x):\n",
    "    \"\"\"Return 2 for x in the interval [0.5,1], otherwise return 1\n",
    "    x: location of interest\"\"\"\n",
    "    "
   ]
  },
  {
   "cell_type": "markdown",
   "metadata": {},
   "source": [
    "c) Write a function that performs the calculation for a single node (equivalent to line 44 in the linear convection code). Your function should take three parameters; feel free to rename them from the provided function prototype.  Include them in the docstring. (3 pts)"
   ]
  },
  {
   "cell_type": "code",
   "execution_count": 2,
   "metadata": {},
   "outputs": [],
   "source": [
    "###\n",
    "###     Single node calculation\n",
    "###\n",
    "\n",
    "def calcLinearNode(x1, x2, x3):\n",
    "    \"\"\"\n",
    "    \"\"\"\n",
    "    "
   ]
  },
  {
   "cell_type": "markdown",
   "metadata": {},
   "source": [
    "d) In the cell below, transfer over the main code from the linear convection script (lines 17 -- 53).  Make the following changes:\n",
    "i) Change the calculation of the initial condition to use the functions you wrote in b).\n",
    "ii) Change the calculation of the individual nodes  to use the functions you wrote in c).\n",
    "iii) Alter the title of the plot to add a second line listing the velocity c, the number of nodes, and the size of the time step.  (4 pts each)"
   ]
  },
  {
   "cell_type": "code",
   "execution_count": 3,
   "metadata": {},
   "outputs": [],
   "source": [
    "##\n",
    "##  Base Linear convection code here/function definition\n",
    "##"
   ]
  },
  {
   "cell_type": "markdown",
   "metadata": {},
   "source": [
    "In the following sub parts, you can either refactor the code to operate as a function call, or you can cut and paste the cell repeatedly with the changed values."
   ]
  },
  {
   "cell_type": "markdown",
   "metadata": {},
   "source": [
    "e) Increase the convection velocity c in 50% steps, without changing the number of nodes or the number or size of the time steps. Calculate the CFL parameter for each change.  How does the solution change as you go through four successive increases?  (12 pts)\n",
    "(Insert as many code cells as required, followed by a markdown cell with your observations.)"
   ]
  },
  {
   "cell_type": "code",
   "execution_count": null,
   "metadata": {},
   "outputs": [],
   "source": []
  },
  {
   "cell_type": "markdown",
   "metadata": {},
   "source": [
    "OBSERVATIONS"
   ]
  },
  {
   "cell_type": "markdown",
   "metadata": {},
   "source": [
    "f) Change the velocity back to 1, and refine the mesh by successively increasing the number of points by 50%. Do not change the size of the time step or the number of time steps. Again, calculate the CFL parameter for each change.  How does the solution change as you go through four successive increases? (12 pts)\n",
    "(Insert as many code cells as required, followed by a markdown cell with your observations.)"
   ]
  },
  {
   "cell_type": "code",
   "execution_count": null,
   "metadata": {},
   "outputs": [],
   "source": []
  },
  {
   "cell_type": "markdown",
   "metadata": {},
   "source": [
    "OBSERVATIONS"
   ]
  },
  {
   "cell_type": "markdown",
   "metadata": {},
   "source": [
    "g) Alter the size of the time step by successively reducing it by 10%. Leave the space step as it was after part e), and there’s no need to change the number of time steps. As before, calculate the CFL parameter for each case.  How does the solution change after three successive reductions? (12 pts)\n",
    "(Insert as many code cells as required, followed by a markdown cell with your observations.)"
   ]
  },
  {
   "cell_type": "code",
   "execution_count": null,
   "metadata": {},
   "outputs": [],
   "source": []
  },
  {
   "cell_type": "markdown",
   "metadata": {},
   "source": [
    "OBSERVATIONS"
   ]
  },
  {
   "cell_type": "markdown",
   "metadata": {},
   "source": [
    "#### 3) In this section, you'll study the behavior of the non-linear convection equation\n",
    "You'll use the main code body from the linear convection problem, with the following changes.  Again, you are welcome to copy the script repeatedly, or refactor into a single function call.\n",
    "\n",
    "a)  Create a new function for computing a node based on the non-linear convection equation (you'll probably need four parameters for this function; change the variable names as appropriate) (3 pts)"
   ]
  },
  {
   "cell_type": "code",
   "execution_count": 4,
   "metadata": {},
   "outputs": [],
   "source": [
    "###\n",
    "###     Single node calculation\n",
    "###\n",
    "\n",
    "def calcNonLinearNode(x1, x2, x3, x4):\n",
    "    \"\"\"\n",
    "    \"\"\""
   ]
  },
  {
   "cell_type": "markdown",
   "metadata": {},
   "source": [
    "b) Alter the base code to call the new function you developed in a) instead of the linear convection computation. (3 pts)"
   ]
  },
  {
   "cell_type": "code",
   "execution_count": null,
   "metadata": {},
   "outputs": [],
   "source": []
  },
  {
   "cell_type": "markdown",
   "metadata": {},
   "source": [
    "c) Study the behavior of the solution as you refine the mesh and adjust the size of the time step.  Comment on your findings, making note of the values of nx and dt used.  Use as many code blocks and markdown cells as necessary. (20 pts)"
   ]
  },
  {
   "cell_type": "code",
   "execution_count": null,
   "metadata": {},
   "outputs": [],
   "source": []
  },
  {
   "cell_type": "markdown",
   "metadata": {},
   "source": [
    "OBSERVATIONS"
   ]
  }
 ],
 "metadata": {
  "kernelspec": {
   "display_name": "Python 3",
   "language": "python",
   "name": "python3"
  },
  "language_info": {
   "codemirror_mode": {
    "name": "ipython",
    "version": 3
   },
   "file_extension": ".py",
   "mimetype": "text/x-python",
   "name": "python",
   "nbconvert_exporter": "python",
   "pygments_lexer": "ipython3",
   "version": "3.7.6"
  }
 },
 "nbformat": 4,
 "nbformat_minor": 4
}
